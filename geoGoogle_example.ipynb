{
 "cells": [
  {
   "cell_type": "markdown",
   "metadata": {},
   "source": [
    "# Geo Code "
   ]
  },
  {
   "cell_type": "code",
   "execution_count": null,
   "metadata": {},
   "outputs": [],
   "source": [
    "import pandas as pd\n",
    "import requests\n",
    "# from geopy.distance import geodesic\n",
    "# import re # regex\n",
    "# import urllib.parse\n",
    "import time"
   ]
  },
  {
   "cell_type": "markdown",
   "metadata": {},
   "source": [
    "## Importing data"
   ]
  },
  {
   "cell_type": "code",
   "execution_count": null,
   "metadata": {},
   "outputs": [],
   "source": [
    "%%time\n",
    "data = pd.read_excel('data/PMTS_2019.xlsx', sheet_name=0)\n",
    "data.shape"
   ]
  },
  {
   "cell_type": "code",
   "execution_count": null,
   "metadata": {},
   "outputs": [],
   "source": [
    "data.head()"
   ]
  },
  {
   "cell_type": "code",
   "execution_count": null,
   "metadata": {},
   "outputs": [],
   "source": [
    "data.dtypes"
   ]
  },
  {
   "cell_type": "code",
   "execution_count": null,
   "metadata": {},
   "outputs": [],
   "source": [
    "# Tranformar o campo Latitude em float\n",
    "data['LATITUDE'] = data['LATITUDE'].apply(lambda x: str(x).replace(',', '.')).apply(lambda x: float(x))"
   ]
  },
  {
   "cell_type": "code",
   "execution_count": null,
   "metadata": {},
   "outputs": [],
   "source": [
    "data.dtypes"
   ]
  },
  {
   "cell_type": "markdown",
   "metadata": {},
   "source": [
    "## Geo location function"
   ]
  },
  {
   "cell_type": "code",
   "execution_count": null,
   "metadata": {},
   "outputs": [],
   "source": [
    "# https://maps.googleapis.com/maps/api/geocode/json?latlng=40.714224,-73.961452&key=YOUR_API_KEY\n",
    "from key import GoogleKey\n",
    "\n",
    "key = GoogleKey().getKey()"
   ]
  },
  {
   "cell_type": "code",
   "execution_count": null,
   "metadata": {},
   "outputs": [],
   "source": [
    "def getAddress(lat, lng):\n",
    "    googleUrl = 'https://maps.googleapis.com/maps/api/geocode/json?latlng='\n",
    "    response = requests.get(googleUrl + str(lat) + ',' + str(lng) + '&key=' + key)    \n",
    "    resp_json_payload = response.json()\n",
    "    try:\n",
    "        address     = resp_json_payload['results'][0]['formatted_address']\n",
    "        cep         = re.findall(r\"\\d+\\-\\d+\", address)\n",
    "        latitude    = resp_json_payload['results'][0]['geometry']['location']['lat']\n",
    "        longitude   = resp_json_payload['results'][0]['geometry']['location']['lng']\n",
    "\n",
    "        if cep == []:\n",
    "            cep = ['00000-000']\n",
    "        # end if\n",
    "\n",
    "        return (address, cep[0], latitude, longitude)\n",
    "        \n",
    "    except ValueError as ve:\n",
    "        print(ve)\n",
    "    except :\n",
    "#         print('error', resp_json_payload)\n",
    "        return ('not found', '00000-000', 0, 0)\n",
    "#     finally:\n",
    "        \n",
    "#         print('error')\n",
    "    # end try\n"
   ]
  },
  {
   "cell_type": "code",
   "execution_count": null,
   "metadata": {},
   "outputs": [],
   "source": [
    "# -23.6088081,-46.6965317\n",
    "getAddress(-23.6088081,-46.6965317)"
   ]
  },
  {
   "cell_type": "code",
   "execution_count": null,
   "metadata": {},
   "outputs": [],
   "source": [
    "# -9.985957599999999, -67.8483179\n",
    "\n",
    "getAddress(-9968417.0, -9968417.0)"
   ]
  },
  {
   "cell_type": "code",
   "execution_count": null,
   "metadata": {},
   "outputs": [],
   "source": []
  },
  {
   "cell_type": "markdown",
   "metadata": {},
   "source": [
    "## Consulta na base"
   ]
  },
  {
   "cell_type": "code",
   "execution_count": null,
   "metadata": {},
   "outputs": [],
   "source": [
    "def geoBase(df):\n",
    "    geo_list = []\n",
    "    dfAux = df.copy()\n",
    "    for index, row in dfAux.iterrows() :\n",
    "        lat = str(row['LATITUDE'])\n",
    "        lng = str(row['LONGITUDE'])\n",
    "        data = getAddress(lat, lng)\n",
    "        \n",
    "        print(row['SITE ID'], data)\n",
    "        geo_dictionary = {}\n",
    "        \n",
    "        geo_dictionary['SITE ID'] = row['SITE ID']\n",
    "        geo_dictionary['PMTS ID'] = row['PMTS ID']\n",
    "        geo_dictionary['address'] = str(data[0])\n",
    "        geo_dictionary['cep'] = str(data[1])\n",
    "        geo_dictionary['latitude'] = str(data[2])\n",
    "        geo_dictionary['longitude'] = str(data[2])\n",
    "\n",
    "        geo_list.append(geo_dictionary)\n",
    "    \n",
    "\n",
    "    geo_DataFrame = pd.DataFrame(geo_list)    \n",
    "\n",
    "#     df['cep'] = geo_DataFrame['cep']\n",
    "#     df['latitude'] = geo_DataFrame['latitude']\n",
    "#     df['longitude'] = geo_DataFrame['longitude']\n",
    "    \n",
    "    return geo_DataFrame"
   ]
  },
  {
   "cell_type": "code",
   "execution_count": null,
   "metadata": {},
   "outputs": [],
   "source": [
    "%%time\n",
    "dfGeo = geoBase(data)"
   ]
  },
  {
   "cell_type": "code",
   "execution_count": null,
   "metadata": {},
   "outputs": [],
   "source": [
    "dfGeo.head()"
   ]
  },
  {
   "cell_type": "code",
   "execution_count": null,
   "metadata": {},
   "outputs": [],
   "source": [
    "dfGeo.to_csv('data/googleGeo.csv', sep=';')"
   ]
  },
  {
   "cell_type": "code",
   "execution_count": null,
   "metadata": {},
   "outputs": [],
   "source": [
    "data['Google_CEP'] = dfGeo['cep']\n",
    "data['Google_Endereco'] = dfGeo['address']"
   ]
  },
  {
   "cell_type": "code",
   "execution_count": null,
   "metadata": {},
   "outputs": [],
   "source": [
    "data.head()"
   ]
  },
  {
   "cell_type": "code",
   "execution_count": null,
   "metadata": {},
   "outputs": [],
   "source": [
    "print('Sites com o CEP não encontrado {0}'.format(data[data['Google_CEP'] == '00000-000'].shape[0]))\n",
    "print('Sites com endereços não encontrados {0}'.format(data[data['Google_Endereco'] == 'not found'].shape[0]))"
   ]
  },
  {
   "cell_type": "code",
   "execution_count": null,
   "metadata": {},
   "outputs": [],
   "source": [
    "data.head()"
   ]
  },
  {
   "cell_type": "code",
   "execution_count": null,
   "metadata": {},
   "outputs": [],
   "source": [
    "data.to_excel('data/PMTS_2019_Google.xlsx', sheet_name='SitesGoogle')"
   ]
  },
  {
   "cell_type": "code",
   "execution_count": null,
   "metadata": {},
   "outputs": [],
   "source": []
  }
 ],
 "metadata": {
  "kernelspec": {
   "display_name": "Python 3",
   "language": "python",
   "name": "python3"
  },
  "language_info": {
   "codemirror_mode": {
    "name": "ipython",
    "version": 3
   },
   "file_extension": ".py",
   "mimetype": "text/x-python",
   "name": "python",
   "nbconvert_exporter": "python",
   "pygments_lexer": "ipython3",
   "version": "3.7.4"
  }
 },
 "nbformat": 4,
 "nbformat_minor": 4
}
